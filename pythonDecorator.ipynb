{
 "cells": [
  {
   "cell_type": "markdown",
   "metadata": {},
   "source": [
    "# 装饰器"
   ]
  },
  {
   "cell_type": "code",
   "execution_count": 95,
   "metadata": {},
   "outputs": [
    {
     "name": "stdout",
     "output_type": "stream",
     "text": [
      "hi yasoob\n"
     ]
    }
   ],
   "source": [
    "def hi(name=\"yasoob\"):\n",
    "    return \"hi \" + name\n",
    "\n",
    "print(hi())"
   ]
  },
  {
   "cell_type": "code",
   "execution_count": 96,
   "metadata": {},
   "outputs": [
    {
     "name": "stdout",
     "output_type": "stream",
     "text": [
      "hi yasoob\n"
     ]
    }
   ],
   "source": [
    "greet = hi  #不是调用hi函数，只是将hi放到greet变量中\n",
    "print(greet())\n"
   ]
  },
  {
   "cell_type": "code",
   "execution_count": 97,
   "metadata": {
    "scrolled": true
   },
   "outputs": [
    {
     "ename": "NameError",
     "evalue": "name 'hi' is not defined",
     "output_type": "error",
     "traceback": [
      "\u001b[1;31m--------------------------------------------------------------\u001b[0m",
      "\u001b[1;31mNameError\u001b[0m                    Traceback (most recent call last)",
      "\u001b[1;32m<ipython-input-97-4cadec20d458>\u001b[0m in \u001b[0;36m<module>\u001b[1;34m\u001b[0m\n\u001b[0;32m      1\u001b[0m \u001b[1;32mdel\u001b[0m \u001b[0mhi\u001b[0m  \u001b[1;31m#删掉hi，再调用hi\u001b[0m\u001b[1;33m\u001b[0m\u001b[1;33m\u001b[0m\u001b[0m\n\u001b[1;32m----> 2\u001b[1;33m \u001b[0mprint\u001b[0m\u001b[1;33m(\u001b[0m\u001b[0mhi\u001b[0m\u001b[1;33m(\u001b[0m\u001b[1;33m)\u001b[0m\u001b[1;33m)\u001b[0m\u001b[1;33m\u001b[0m\u001b[1;33m\u001b[0m\u001b[0m\n\u001b[0m",
      "\u001b[1;31mNameError\u001b[0m: name 'hi' is not defined"
     ]
    }
   ],
   "source": [
    "del hi  #删掉hi，再调用hi\n",
    "print(hi())"
   ]
  },
  {
   "cell_type": "code",
   "execution_count": 98,
   "metadata": {},
   "outputs": [
    {
     "name": "stdout",
     "output_type": "stream",
     "text": [
      "hi yasoob\n"
     ]
    }
   ],
   "source": [
    "print(greet())  #删掉 hi，再调用greet"
   ]
  },
  {
   "cell_type": "markdown",
   "metadata": {},
   "source": [
    "## 在函数中定义函数"
   ]
  },
  {
   "cell_type": "code",
   "execution_count": 99,
   "metadata": {},
   "outputs": [
    {
     "name": "stdout",
     "output_type": "stream",
     "text": [
      "inside the hi() function\n",
      "in the greet() function\n",
      "in the welcome() function\n",
      "back to the hi() function\n"
     ]
    }
   ],
   "source": [
    "def hi(name=\"yasoob\"):\n",
    "    print(\"inside the hi() function\")\n",
    " \n",
    "    def greet_inhi():\n",
    "        return \"in the greet() function\"\n",
    " \n",
    "    def welcome():\n",
    "        return \"in the welcome() function\"\n",
    " \n",
    "    print(greet_inhi())\n",
    "    print(welcome())\n",
    "    print(\"back to the hi() function\")\n",
    " \n",
    "hi()"
   ]
  },
  {
   "cell_type": "code",
   "execution_count": 100,
   "metadata": {},
   "outputs": [
    {
     "ename": "NameError",
     "evalue": "name 'greet_inhi' is not defined",
     "output_type": "error",
     "traceback": [
      "\u001b[1;31m--------------------------------------------------------------\u001b[0m",
      "\u001b[1;31mNameError\u001b[0m                    Traceback (most recent call last)",
      "\u001b[1;32m<ipython-input-100-edb38ca8c720>\u001b[0m in \u001b[0;36m<module>\u001b[1;34m\u001b[0m\n\u001b[1;32m----> 1\u001b[1;33m \u001b[0mgreet_inhi\u001b[0m\u001b[1;33m(\u001b[0m\u001b[1;33m)\u001b[0m  \u001b[1;31m# 此处执行报错：提示没有定义greet_inhi函数。\u001b[0m\u001b[1;33m\u001b[0m\u001b[1;33m\u001b[0m\u001b[0m\n\u001b[0m",
      "\u001b[1;31mNameError\u001b[0m: name 'greet_inhi' is not defined"
     ]
    }
   ],
   "source": [
    "greet_inhi()  # 此处执行报错：提示没有定义greet_inhi函数。"
   ]
  },
  {
   "cell_type": "markdown",
   "metadata": {},
   "source": [
    "## 从函数中返回函数"
   ]
  },
  {
   "cell_type": "code",
   "execution_count": 101,
   "metadata": {},
   "outputs": [
    {
     "name": "stdout",
     "output_type": "stream",
     "text": [
      "<function hi.<locals>.greet at 0x000001F349F6E550>\n",
      "in the greet() function\n"
     ]
    }
   ],
   "source": [
    "def hi(name=\"yasoob\"):\n",
    "    def greet():\n",
    "        return \"in the greet() function\"\n",
    " \n",
    "    def welcome():\n",
    "        return \"in the welcome() function\"\n",
    " \n",
    "    if name == \"yasoob\":\n",
    "        return greet\n",
    "    else:\n",
    "        return welcome\n",
    " \n",
    "a = hi()\n",
    "print(a)  #打印的是函数地址\n",
    "\n",
    "print(a())"
   ]
  },
  {
   "cell_type": "markdown",
   "metadata": {},
   "source": [
    "## 将函数做为参数传给另一个函数"
   ]
  },
  {
   "cell_type": "code",
   "execution_count": 102,
   "metadata": {},
   "outputs": [
    {
     "name": "stdout",
     "output_type": "stream",
     "text": [
      "some work before executing hi()\n",
      "hi yasoob!\n"
     ]
    }
   ],
   "source": [
    "def hi():\n",
    "    return \"hi yasoob!\"\n",
    " \n",
    "def doSomethingBeforeHi(func):\n",
    "    print(\"some work before executing hi()\")\n",
    "    print(func())\n",
    " \n",
    "doSomethingBeforeHi(hi)"
   ]
  },
  {
   "cell_type": "markdown",
   "metadata": {},
   "source": [
    "装饰器实现在一个函数的前后执行代码，可以理解为对函数的扩展"
   ]
  },
  {
   "cell_type": "markdown",
   "metadata": {},
   "source": [
    "## 设计第一个装饰器"
   ]
  },
  {
   "cell_type": "code",
   "execution_count": 103,
   "metadata": {},
   "outputs": [
    {
     "name": "stdout",
     "output_type": "stream",
     "text": [
      "the function that needs some decoration\n"
     ]
    }
   ],
   "source": [
    "def a_new_decorator(a_func):\n",
    " \n",
    "    def wrapTheFunction():\n",
    "        print(\"some work before executing a_func()\")\n",
    " \n",
    "        a_func()\n",
    " \n",
    "        print(\"some work after executing a_func()\")\n",
    " \n",
    "    return wrapTheFunction\n",
    " \n",
    "def a_function_requiring_decoration():\n",
    "    print(\"the function that needs some decoration\")\n",
    " \n",
    "a_function_requiring_decoration()"
   ]
  },
  {
   "cell_type": "code",
   "execution_count": 104,
   "metadata": {},
   "outputs": [
    {
     "name": "stdout",
     "output_type": "stream",
     "text": [
      "some work before executing a_func()\n",
      "the function that needs some decoration\n",
      "some work after executing a_func()\n"
     ]
    }
   ],
   "source": [
    "a_function_requiring_decoration = a_new_decorator(a_function_requiring_decoration)\n",
    "a_function_requiring_decoration()"
   ]
  },
  {
   "cell_type": "markdown",
   "metadata": {},
   "source": [
    "装饰器：封装一个函数，修改它的行为。没有使用 @符号，一个简短的方式生成一个被装饰的函数。如果使用 @来运行上述代码，如下： "
   ]
  },
  {
   "cell_type": "code",
   "execution_count": 105,
   "metadata": {},
   "outputs": [
    {
     "name": "stdout",
     "output_type": "stream",
     "text": [
      "some work before executing a_func()\n",
      "the function that needs some decoration，to do something here\n",
      "some work after executing a_func()\n"
     ]
    }
   ],
   "source": [
    "@a_new_decorator\n",
    "def a_function_requiring_decoration():\n",
    "    \"\"\"Decorate\"\"\"\n",
    "    print(\"the function that needs some decoration，to do something here\")\n",
    " \n",
    "a_function_requiring_decoration()"
   ]
  },
  {
   "cell_type": "markdown",
   "metadata": {},
   "source": [
    "运行如下代码会存在一个问题："
   ]
  },
  {
   "cell_type": "code",
   "execution_count": 106,
   "metadata": {},
   "outputs": [
    {
     "name": "stdout",
     "output_type": "stream",
     "text": [
      "wrapTheFunction\n"
     ]
    }
   ],
   "source": [
    "a_function_requiring_decoration = a_new_decorator(a_function_requiring_decoration)\n",
    "print(a_function_requiring_decoration.__name__)"
   ]
  },
  {
   "cell_type": "markdown",
   "metadata": {},
   "source": [
    "想得到的输出是\"a_function_requiring_decoration\"，但被warpTheFunction替代了。装饰器重写了函数的名字和注释文档(docstring)。幸运的是，Python提供了一个functools.wraps函数来解决该问题。那么使用functools.wraps修改如上的例子，如下："
   ]
  },
  {
   "cell_type": "code",
   "execution_count": 107,
   "metadata": {},
   "outputs": [
    {
     "name": "stdout",
     "output_type": "stream",
     "text": [
      "a_function_requiring_decoration\n"
     ]
    }
   ],
   "source": [
    "from functools import wraps\n",
    " \n",
    "def a_new_decorator(a_func):\n",
    "    @wraps(a_func)\n",
    "    def wrapTheFunction():\n",
    "        print(\"some work before executing a_func()\")\n",
    "        a_func()\n",
    "        print(\"some work after executing a_func()\")\n",
    "    return wrapTheFunction\n",
    " \n",
    "@a_new_decorator\n",
    "def a_function_requiring_decoration():\n",
    "    \"\"\"Decorate\"\"\"\n",
    "    print(\"the function that needs some decoration，to do something here\")\n",
    " \n",
    "print(a_function_requiring_decoration.__name__)"
   ]
  },
  {
   "cell_type": "markdown",
   "metadata": {},
   "source": [
    "装饰器常用场景。蓝本规范如下："
   ]
  },
  {
   "cell_type": "code",
   "execution_count": 108,
   "metadata": {},
   "outputs": [
    {
     "name": "stdout",
     "output_type": "stream",
     "text": [
      "Function is running\n",
      "Function will not run\n"
     ]
    }
   ],
   "source": [
    "from functools import wraps\n",
    "def decorator_name(f):\n",
    "    @wraps(f)\n",
    "    def decorated(*args, **kwargs):\n",
    "        if not can_run:\n",
    "            return \"Function will not run\"\n",
    "        return f(*args, **kwargs)\n",
    "    return decorated\n",
    " \n",
    "@decorator_name\n",
    "def func():\n",
    "    return(\"Function is running\")\n",
    " \n",
    "can_run = True\n",
    "print(func())\n",
    "\n",
    "can_run = False\n",
    "print(func())"
   ]
  },
  {
   "cell_type": "markdown",
   "metadata": {},
   "source": [
    "需要注意：@wraps接受一个函数来进行装饰，并加入复制函数名称、注释文档、参数列表等等的功能。这样，可以在装饰器里面访问在装饰之前的函数的属性。"
   ]
  },
  {
   "cell_type": "markdown",
   "metadata": {},
   "source": [
    "# 使用场景"
   ]
  },
  {
   "cell_type": "markdown",
   "metadata": {},
   "source": [
    "## 授权(Authorization)"
   ]
  },
  {
   "cell_type": "markdown",
   "metadata": {},
   "source": [
    "装饰器能有助于检查某个人是否被授权去使用一个web应用的端点(endpoint),被大量使用于Flask和Django web框架中。举例，使用基于装饰器的授权："
   ]
  },
  {
   "cell_type": "code",
   "execution_count": 109,
   "metadata": {},
   "outputs": [],
   "source": [
    "from functools import wraps\n",
    " \n",
    "def requires_auth(f):\n",
    "    @wraps(f)\n",
    "    def decorated(*args, **kwargs):\n",
    "        auth = request.authorization\n",
    "        if not auth or not check_auth(auth.username, auth.password):\n",
    "            authenticate()\n",
    "        return f(*args, **kwargs)\n",
    "    return decorated"
   ]
  },
  {
   "cell_type": "markdown",
   "metadata": {},
   "source": [
    "## 日志(Logging)"
   ]
  },
  {
   "cell_type": "code",
   "execution_count": 110,
   "metadata": {},
   "outputs": [
    {
     "name": "stdout",
     "output_type": "stream",
     "text": [
      "addition_func was called\n"
     ]
    }
   ],
   "source": [
    "from functools import wraps\n",
    " \n",
    "def logit(func):\n",
    "    @wraps(func)\n",
    "    def with_logging(*args, **kwargs):\n",
    "        print(func.__name__ + \" was called\")\n",
    "        return func(*args, **kwargs)\n",
    "    return with_logging\n",
    " \n",
    "@logit\n",
    "def addition_func(x):\n",
    "   \"\"\"Do math.\"\"\"\n",
    "   return x + x\n",
    " \n",
    "result = addition_func(4)"
   ]
  },
  {
   "cell_type": "markdown",
   "metadata": {},
   "source": [
    "## 带参数的装饰器"
   ]
  },
  {
   "cell_type": "markdown",
   "metadata": {},
   "source": [
    "@wraps是不是个装饰器？@wraps接收一个参数，和任何普通函数一样，不能看成是一个装饰器。当使用@my_decorator语法时，即装饰器语法时，是应用一个以单个函数作为参数的一个包裹函数。需要注意的是，Python里每个东西都是一个对象，函数也是一个对象。可以编写能返回一个包裹函数的函数。"
   ]
  },
  {
   "cell_type": "markdown",
   "metadata": {},
   "source": [
    "### 在函数中嵌入装饰器"
   ]
  },
  {
   "cell_type": "markdown",
   "metadata": {},
   "source": [
    "针对日志的例子，创建一个包裹函数，能指定一个用于输出的日志文件"
   ]
  },
  {
   "cell_type": "code",
   "execution_count": 111,
   "metadata": {},
   "outputs": [
    {
     "name": "stdout",
     "output_type": "stream",
     "text": [
      "myfunc1 was called\n",
      "myfunc2 was called\n"
     ]
    }
   ],
   "source": [
    "from functools import wraps\n",
    " \n",
    "def logit(logfile='out.log'):\n",
    "    def logging_decorator(func):\n",
    "        @wraps(func)\n",
    "        def wrapped_function(*args, **kwargs):\n",
    "            log_string = func.__name__ + \" was called\"\n",
    "            print(log_string)\n",
    "            # 打开logfile，并写入内容\n",
    "            with open(logfile, 'a') as opened_file:\n",
    "                # 现在将日志打到指定的logfile\n",
    "                opened_file.write(log_string + '\\n')\n",
    "            return func(*args, **kwargs)\n",
    "        return wrapped_function\n",
    "    return logging_decorator\n",
    " \n",
    "@logit()\n",
    "def myfunc1():\n",
    "    pass\n",
    " \n",
    "myfunc1()\n",
    "# 现在一个叫做 out.log 的文件出现了，里面的内容就是上面的字符串\n",
    " \n",
    "@logit(logfile='func2.log')\n",
    "def myfunc2():\n",
    "    pass\n",
    " \n",
    "myfunc2()\n",
    "# 现在一个叫做 func2.log 的文件出现了，里面的内容就是上面的字符串"
   ]
  },
  {
   "cell_type": "markdown",
   "metadata": {},
   "source": [
    "## 装饰器类"
   ]
  },
  {
   "cell_type": "markdown",
   "metadata": {},
   "source": [
    "现在有了logit装饰器，但关注异常时，常常想打日志到一个文件。而有时想把引起注意的问题发送到一个email，同时也保留日志，留个记录。这是一个使用继承的场景，但目前为止只看到过用来构建装饰器的函数。\n",
    "幸运的是，类也可以用来构建装饰器。现在以一个类而不是一个函数的方式，来重新构建logit，如下："
   ]
  },
  {
   "cell_type": "code",
   "execution_count": 112,
   "metadata": {},
   "outputs": [],
   "source": [
    "from functools import wraps\n",
    " \n",
    "class logit(object):\n",
    "    def __init__(self, logfile='out.log'):\n",
    "        self.logfile = logfile\n",
    " \n",
    "    def __call__(self, func):\n",
    "        @wraps(func)\n",
    "        def wrapped_function(*args, **kwargs):\n",
    "            log_string = func.__name__ + \" was called\"\n",
    "            print(log_string)\n",
    "            # 打开logfile并写入\n",
    "            with open(self.logfile, 'a') as opened_file:\n",
    "                # 现在将日志打到指定的文件\n",
    "                opened_file.write(log_string + '\\n')\n",
    "            # 现在，发送一个通知\n",
    "            self.notify()\n",
    "            return func(*args, **kwargs)\n",
    "        return wrapped_function\n",
    " \n",
    "    def notify(self):\n",
    "        # logit只打日志，不做别的\n",
    "        pass"
   ]
  },
  {
   "cell_type": "markdown",
   "metadata": {},
   "source": [
    "这个实现有一个附加优势，它比嵌套函数的方式更加整洁，而且包裹一个函数还是使用跟以前一样的语法："
   ]
  },
  {
   "cell_type": "code",
   "execution_count": 113,
   "metadata": {},
   "outputs": [],
   "source": [
    "@logit()\n",
    "def myfunc1():\n",
    "    pass"
   ]
  },
  {
   "cell_type": "markdown",
   "metadata": {},
   "source": [
    "现在，给 logit 创建子类，来添加 email 的功能(如何实现email不考虑，仅刷存在感)。"
   ]
  },
  {
   "cell_type": "code",
   "execution_count": 114,
   "metadata": {},
   "outputs": [],
   "source": [
    "class email_logit(logit):\n",
    "    #可以在函数调用时发送email给管理员\n",
    "    def __init__(self, email='admin@myproject.com', *args, **kwargs):\n",
    "        self.email = email\n",
    "        super(email_logit, self).__init__(*args, **kwargs)\n",
    " \n",
    "    def notify(self):\n",
    "        # 发送一封email到self.email\n",
    "        # 这里就不做实现了\n",
    "        pass\n"
   ]
  },
  {
   "cell_type": "markdown",
   "metadata": {},
   "source": [
    "那么，@email_logit 将会和 @logit 产生同样的效果，但是在打日志的基础上，还会多发送一封邮件给管理员。 \n",
    "\n"
   ]
  },
  {
   "cell_type": "markdown",
   "metadata": {},
   "source": [
    "# 装饰器几个简单的帮助理解的例子"
   ]
  },
  {
   "cell_type": "code",
   "execution_count": 1,
   "metadata": {},
   "outputs": [
    {
     "name": "stdout",
     "output_type": "stream",
     "text": [
      "hello! decoFun_func\n",
      "world! decoFun_func\n",
      "time is 1007 ms\n",
      "end of file!\n"
     ]
    }
   ],
   "source": [
    "import time\n",
    "def fun():\n",
    "    print(\"hello!\")\n",
    "    time.sleep(1)\n",
    "    print(\"world!\")\n",
    "\n",
    "def deco(func):\n",
    "    startTime = time.time()\n",
    "    func()\n",
    "    endTime = time.time()\n",
    "    msecs = (endTime - startTime)*1000\n",
    "    print(\"time is %d ms\" %msecs)\n",
    "\n",
    "def func():\n",
    "    print(\"hello! func\")\n",
    "    time.sleep(1)\n",
    "    print(\"world! func\")\n",
    "\n",
    "\n",
    "\n",
    "def decoFun(func1):\n",
    "    def wrapper():\n",
    "        startTime = time.time()\n",
    "        func1()\n",
    "        endTime = time.time()\n",
    "        msecs = (endTime - startTime)*1000\n",
    "        print(\"time is %d ms\" %msecs)\n",
    "    return wrapper\n",
    "\n",
    "@decoFun\n",
    "def func1():\n",
    "    print(\"hello! decoFun_func\")\n",
    "    time.sleep(1)\n",
    "    print(\"world! decoFun_func\")\n",
    "\n",
    "\n",
    "if __name__ == '__main__':\n",
    "    #f = func\n",
    "    #deco(f) #只有把func()或者f()作为参数执行，新加入功能才会生效\n",
    "    #print(\"f.__name__ is\",f.__name__) #f的name就是func\n",
    "\n",
    "    f = func1 #f被赋值为func1，执行f()就是执行func1()\n",
    "    f()\n",
    "\n",
    "print(\"end of file!\")"
   ]
  },
  {
   "cell_type": "code",
   "execution_count": 2,
   "metadata": {},
   "outputs": [
    {
     "name": "stdout",
     "output_type": "stream",
     "text": [
      "hello! func for add three num : \n",
      "The result is 12\n",
      "time is 1008 ms\n",
      "hello! func for add two num : \n",
      "The result is 7\n",
      "time is 1008 ms\n",
      "end of file!\n"
     ]
    }
   ],
   "source": [
    "#带有不定参数的装饰器\n",
    "import time\n",
    "\n",
    "def deco(func):\n",
    "    def wrapper(*args, **kwargs):\n",
    "        startTime = time.time()\n",
    "        func(*args, **kwargs)\n",
    "        endTime = time.time()\n",
    "        msecs = (endTime - startTime)*1000\n",
    "        print(\"time is %d ms\" %msecs)\n",
    "    return wrapper\n",
    "\n",
    "@deco\n",
    "def func(a,b):\n",
    "    print(\"hello! func for add two num : \")\n",
    "    time.sleep(1)\n",
    "    print(\"The result is %d\" %(a+b))\n",
    "\n",
    "@deco\n",
    "def func2(a,b,c):\n",
    "    print(\"hello! func for add three num : \")\n",
    "    time.sleep(1)\n",
    "    print(\"The result is %d\" %(a+b+c))\n",
    "\n",
    "\n",
    "if __name__ == '__main__':\n",
    "    f = func\n",
    "    func2(3,4,5)\n",
    "    f(3,4)\n",
    "\n",
    "print(\"end of file!\")"
   ]
  },
  {
   "cell_type": "code",
   "execution_count": 3,
   "metadata": {},
   "outputs": [
    {
     "name": "stdout",
     "output_type": "stream",
     "text": [
      "aaaaa\n",
      "11111\n",
      "this is decorator1\n",
      "this is decorator2\n",
      "hello! func for add two num : \n",
      "The result is 7\n",
      "This is the end of decorator2\n",
      "time is 1001 ms\n",
      "This is the end of decorator1\n",
      " ############################# \n",
      "22222\n",
      "bbbbb\n",
      "test test test\n",
      "ccccc\n",
      "33333\n",
      "end of file!\n"
     ]
    }
   ],
   "source": [
    "#多个装饰器\n",
    "import time\n",
    "\n",
    "def deco1(func):\n",
    "    def wrapper(*args, **kwargs):\n",
    "        print(\"this is decorator1\")\n",
    "        startTime = time.time()\n",
    "        func(*args, **kwargs)\n",
    "        endTime = time.time()\n",
    "        msecs = (endTime - startTime)*1000\n",
    "        print(\"time is %d ms\" %msecs)\n",
    "        print(\"This is the end of decorator1\")\n",
    "    return wrapper\n",
    "\n",
    "def deco2(func):\n",
    "    def wrapper(*args, **kwargs):\n",
    "        print(\"this is decorator2\")\n",
    "        func(*args, **kwargs)\n",
    "        print(\"This is the end of decorator2\")\n",
    "    return wrapper\n",
    "\n",
    "@deco1\n",
    "@deco2\n",
    "def func(a,b):\n",
    "    print(\"hello! func for add two num : \")\n",
    "    time.sleep(1)\n",
    "    print(\"The result is %d\" %(a+b))\n",
    "\n",
    "# ////////////////////////////////////////////////////////////////////\n",
    "def deco3(func):\n",
    "    print(\"11111\")\n",
    "    def one():\n",
    "        print(\"22222\")\n",
    "        func()\n",
    "        print(\"33333\")\n",
    "    return one\n",
    "\n",
    "def deco4(func):\n",
    "    print(\"aaaaa\")\n",
    "    def two():\n",
    "        print(\"bbbbb\")\n",
    "        func()\n",
    "        print(\"ccccc\")\n",
    "    return two\n",
    "\n",
    "@deco3\n",
    "@deco4\n",
    "def test():\n",
    "    print(\"test test test\")\n",
    "\n",
    "if __name__ == '__main__':\n",
    "    f = func\n",
    "    f(3,4) #多个装饰器执行的顺序是从最后一个装饰器开始，执行到第一个装饰器，在执行函数本身\n",
    "\n",
    "    print(\" ############################# \")\n",
    "\n",
    "    test()\n",
    "\n",
    "print(\"end of file!\")"
   ]
  },
  {
   "cell_type": "markdown",
   "metadata": {},
   "source": [
    "以上例子，帮助理解装饰器。"
   ]
  },
  {
   "cell_type": "code",
   "execution_count": null,
   "metadata": {},
   "outputs": [],
   "source": []
  }
 ],
 "metadata": {
  "kernelspec": {
   "display_name": "Python 3",
   "language": "python",
   "name": "python3"
  },
  "language_info": {
   "codemirror_mode": {
    "name": "ipython",
    "version": 3
   },
   "file_extension": ".py",
   "mimetype": "text/x-python",
   "name": "python",
   "nbconvert_exporter": "python",
   "pygments_lexer": "ipython3",
   "version": "3.8.5"
  }
 },
 "nbformat": 4,
 "nbformat_minor": 4
}
