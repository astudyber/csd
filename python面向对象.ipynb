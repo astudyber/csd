{
 "cells": [
  {
   "cell_type": "markdown",
   "metadata": {},
   "source": [
    "# Python面向对象--整理by Cyrus Zhang"
   ]
  },
  {
   "cell_type": "markdown",
   "metadata": {},
   "source": [
    "面向对象技术：类、对象（类变量）、成员（数据成员与函数成员）、方法重写（方法覆盖）、局部变量（方法中定义的变量）、\n",
    "实例变量（类中的属性变量）、继承、实例化（创建一个类的实例）、方法（类中的函数）"
   ]
  },
  {
   "cell_type": "markdown",
   "metadata": {},
   "source": [
    "## 定义类"
   ]
  },
  {
   "cell_type": "code",
   "execution_count": 35,
   "metadata": {},
   "outputs": [
    {
     "name": "stdout",
     "output_type": "stream",
     "text": [
      "0\n",
      "1\n",
      "Employee number is 1\n",
      "Name is cyrus ,salary is 100\n"
     ]
    },
    {
     "data": {
      "text/plain": [
       "False"
      ]
     },
     "execution_count": 35,
     "metadata": {},
     "output_type": "execute_result"
    }
   ],
   "source": [
    "class Employee:\n",
    "    '''Base class, 所有员工的基类'''\n",
    "    empCount = 0  # 静态成员\n",
    "    \n",
    "    def __init__(self, name, salary):  #构造函数（初始化函数）\n",
    "        self.name = name\n",
    "        self.salary = salary\n",
    "        Employee.empCount += 1\n",
    "    \n",
    "    def displayCount(self):\n",
    "        print(\"Employee number is\",Employee.empCount)\n",
    "    \n",
    "    def displayEmployee(self):\n",
    "        print(\"Name is\", self.name, \",salary is\", self.salary)\n",
    "    \n",
    "    @staticmethod  #静态成员函数\n",
    "    def getCount():\n",
    "        return Employee.empCount\n",
    "\n",
    "print(Employee.empCount)\n",
    "em = Employee('cyrus',100)  #创建实例对象\n",
    "print(Employee.getCount())\n",
    "em.displayCount()  #访问属性（通过.来访问类变量（实例变量）与函数（类中的方法））\n",
    "em.displayEmployee()"
   ]
  },
  {
   "cell_type": "markdown",
   "metadata": {},
   "source": [
    "### self代表类的实例，不代表类"
   ]
  },
  {
   "cell_type": "code",
   "execution_count": 34,
   "metadata": {},
   "outputs": [
    {
     "name": "stdout",
     "output_type": "stream",
     "text": [
      "<__main__.SelfTest object at 0x0000025426A8E700>\n",
      "<class '__main__.SelfTest'>\n",
      "<__main__.Test object at 0x0000025426A8E3A0>\n",
      "<class '__main__.Test'>\n"
     ]
    }
   ],
   "source": [
    "class SelfTest:\n",
    "    def prt(self):\n",
    "        print(self)\n",
    "        print(self.__class__)\n",
    " \n",
    "test1 = SelfTest()  #创建实例对象\n",
    "test1.prt()\n",
    "\n",
    "class Test:\n",
    "    def prt(oop):\n",
    "        print(oop)\n",
    "        print(oop.__class__)\n",
    "\n",
    "test2 = Test()\n",
    "test2.prt()"
   ]
  },
  {
   "cell_type": "markdown",
   "metadata": {},
   "source": [
    "上例可以看出，self代表类的实例，代表当前对象的地址，而self.\\_\\_class\\_\\_指向类。self被替换成其它标识符，如oop，程序依然正常执行。self不是python的关键字。"
   ]
  },
  {
   "cell_type": "markdown",
   "metadata": {},
   "source": [
    "### 属性修改"
   ]
  },
  {
   "cell_type": "markdown",
   "metadata": {},
   "source": [
    "可以使用以下函数的方式来访问属性：\n",
    "- getattr(obj, name\\[, default]) : 访问对象的属性。\n",
    "- hasattr(obj,name) : 检查是否存在一个属性。\n",
    "- setattr(obj,name,value) : 设置一个属性。如果属性不存在，会创建一个新属性。\n",
    "- delattr(obj, name) : 删除属性。"
   ]
  },
  {
   "cell_type": "code",
   "execution_count": 42,
   "metadata": {},
   "outputs": [
    {
     "name": "stdout",
     "output_type": "stream",
     "text": [
      "8\n"
     ]
    }
   ],
   "source": [
    "class Employee:\n",
    "    '''Base class, 所有员工的基类'''\n",
    "    empCount = 0  # 静态成员\n",
    "    \n",
    "    def __init__(self, name, salary):  #构造函数（初始化函数）\n",
    "        self.name = name\n",
    "        self.salary = salary\n",
    "        Employee.empCount += 1\n",
    "    \n",
    "    def displayCount(self):\n",
    "        print(\"Employee number is\",Employee.empCount)\n",
    "    \n",
    "    def displayEmployee(self):\n",
    "        print(\"Name is\", self.name, \",salary is\", self.salary)\n",
    "\n",
    "em = Employee('cyrus',100)  #创建实例对象\n",
    "\n",
    "hasattr(em, 'age')    # 如果存在 'age' 属性返回 True。\n",
    "setattr(em, 'age', 8) # 添加属性 'age' 值为 8\n",
    "print(getattr(em, 'age') )   # 返回 'age' 属性的值,并显示\n",
    "delattr(em, 'age')    # 删除属性 'age'\n",
    "#print(getattr(em, 'age') ) #删除属性后，显示属性将报错：'Employee' object has no attribute 'age'"
   ]
  },
  {
   "cell_type": "markdown",
   "metadata": {},
   "source": [
    "### python内置属性"
   ]
  },
  {
   "cell_type": "markdown",
   "metadata": {},
   "source": [
    "- \\_\\_dict\\_\\_ : 类的属性（包含一个字典，由类的数据属性组成）\n",
    "- \\_\\_doc\\_\\_ :类的文档字符串\n",
    "- \\_\\_name\\_\\_: 类名\n",
    "- \\_\\_module\\_\\_: 类定义所在的模块（类的全名是\\_\\_main\\_\\_.className，如果类位于一个导入模块mymod中，那么className.\\_\\_module\\_\\_ 等于 mymod）\n",
    "- \\_\\_bases\\_\\_ : 类的所有父类构成元素（包含了一个由所有父类组成的元组）"
   ]
  },
  {
   "cell_type": "code",
   "execution_count": 44,
   "metadata": {},
   "outputs": [
    {
     "name": "stdout",
     "output_type": "stream",
     "text": [
      "Employee.__doc__: Base class, 所有员工的基类\n",
      "Employee.__name__: Employee\n",
      "Employee.__module__: __main__\n",
      "Employee.__bases__: (<class 'object'>,)\n",
      "Employee.__dict__: {'__module__': '__main__', '__doc__': 'Base class, 所有员工的基类', 'empCount': 1, '__init__': <function Employee.__init__ at 0x000002542717EAF0>, 'displayCount': <function Employee.displayCount at 0x000002542717E280>, 'displayEmployee': <function Employee.displayEmployee at 0x000002542717E550>, '__dict__': <attribute '__dict__' of 'Employee' objects>, '__weakref__': <attribute '__weakref__' of 'Employee' objects>}\n"
     ]
    }
   ],
   "source": [
    "class Employee:\n",
    "    '''Base class, 所有员工的基类'''\n",
    "    empCount = 0  # 静态成员\n",
    "    \n",
    "    def __init__(self, name, salary):  #构造函数（初始化函数）\n",
    "        self.name = name\n",
    "        self.salary = salary\n",
    "        Employee.empCount += 1\n",
    "    \n",
    "    def displayCount(self):\n",
    "        print(\"Total number of Employee is\",Employee.empCount)\n",
    "    \n",
    "    def displayEmployee(self):\n",
    "        print(\"Name is\", self.name, \",salary is\", self.salary)\n",
    "\n",
    "em = Employee('cyrus',100)  #创建实例对象\n",
    "print(\"Employee.__doc__:\",Employee.__doc__)\n",
    "print(\"Employee.__name__:\",Employee.__name__)\n",
    "print(\"Employee.__module__:\",Employee.__module__)\n",
    "print(\"Employee.__bases__:\",Employee.__bases__)\n",
    "print(\"Employee.__dict__:\",Employee.__dict__)"
   ]
  },
  {
   "cell_type": "markdown",
   "metadata": {},
   "source": [
    "### python对象销毁（垃圾回收、析构）"
   ]
  },
  {
   "cell_type": "markdown",
   "metadata": {},
   "source": [
    "Python 使用引用计数技术来跟踪和回收垃圾。在 Python 内部记录着所有使用中的对象各有多少引用。\n",
    "一个内部跟踪变量，称为一个引用计数器。当对象被创建时， 就创建了一个引用计数， 当这个对象不再需要时， 这个对象的引用计数变为0 时， 它被垃圾回收。但是回收不是\"立即\"的， 由解释器在适当的时机，将垃圾对象占用的内存空间回收。"
   ]
  },
  {
   "cell_type": "code",
   "execution_count": 45,
   "metadata": {},
   "outputs": [],
   "source": [
    "a = 40      # 创建对象<40>\n",
    "b = a       # 增加引用<40> 的计数\n",
    "c = [b]     # 增加引用<40> 的计数\n",
    "\n",
    "del a       # 减少引用<40> 的计数\n",
    "b = 100     # 减少引用<40> 的计数\n",
    "c[0] = -1   # 减少引用<40> 的计数"
   ]
  },
  {
   "cell_type": "markdown",
   "metadata": {},
   "source": [
    "垃圾回收机制不仅针对引用计数为0的对象，同样也可以处理循环引用的情况。循环引用指的是，两个对象相互引用，但是没有其他变量引用他们。这种情况下，仅使用引用计数是不够的。Python 的垃圾收集器实际上是一个引用计数器和一个循环垃圾收集器。作为引用计数的补充， 垃圾收集器也会留心被分配的总量很大（即未通过引用计数销毁的那些）的对象。 在这种情况下， 解释器会暂停下来， 试图清理所有未引用的循环"
   ]
  },
  {
   "cell_type": "markdown",
   "metadata": {},
   "source": [
    "**析构函数：**析构函数\\_\\_del\\_\\_ ，\\_\\_del\\_\\_在对象销毁的时候被调用，当对象不再被使用时，\\_\\_del\\_\\_方法运行"
   ]
  },
  {
   "cell_type": "code",
   "execution_count": 55,
   "metadata": {},
   "outputs": [
    {
     "name": "stdout",
     "output_type": "stream",
     "text": [
      "2560448396160 2560448396160 2560448396160\n",
      "Point 销毁\n"
     ]
    }
   ],
   "source": [
    "class Point:\n",
    "    def __init__( self, x=0, y=0):\n",
    "        self.x = x\n",
    "        self.y = y\n",
    "    \n",
    "    def __del__(self):\n",
    "        class_name = self.__class__.__name__\n",
    "        print(class_name, \"销毁\")\n",
    "\n",
    "pt1 = Point()\n",
    "pt2 = pt1\n",
    "pt3 = pt1\n",
    "print(id(pt1),id(pt2),id(pt3)) # 打印对象的id\n",
    "del pt1\n",
    "del pt2\n",
    "del pt3"
   ]
  },
  {
   "cell_type": "markdown",
   "metadata": {},
   "source": [
    "上述代码块说明，析构函数只被调用了一次。上述代码块，如果注释掉del pt3，则析构函数不会被调用。主要是pt1的计数没有被减少到0，因此可以理解为，在python中，pt2 = pt1这样的语句，并没有创建新的对象，而是增加了对pt1的引用，也就是pt2可以看成是pt1的别名。当pt2被修改时，pt2不在引用pt1，则pt1的引用计数减少。通过pt1、pt2、pt3的id也可以看出来，它们为同一个对象。"
   ]
  },
  {
   "cell_type": "markdown",
   "metadata": {},
   "source": [
    "## 继承与派生"
   ]
  },
  {
   "cell_type": "markdown",
   "metadata": {},
   "source": [
    "继承与派生是面向对象编程核心之一。通过继承创建的新类称为子类或派生类，被继承的类称为基类、父类或超类。"
   ]
  },
  {
   "cell_type": "markdown",
   "metadata": {},
   "source": [
    "### 继承语法（单继承与多继承）"
   ]
  },
  {
   "cell_type": "code",
   "execution_count": null,
   "metadata": {},
   "outputs": [],
   "source": [
    "class 派生类名(基类名):\n",
    "    ...\n",
    "class 派生类名(基类1, 基类2, ...):\n",
    "    ..."
   ]
  },
  {
   "cell_type": "markdown",
   "metadata": {},
   "source": [
    "### python中继承的特点"
   ]
  },
  {
   "cell_type": "markdown",
   "metadata": {},
   "source": [
    "1. 若在派生类中需要基类的构造方法，则需要显式调用基类的构造方法，或者不重写基类的构造方法。\n",
    "2. 调用基类的方法时，需要加上基类的类名前缀，且需要带上 self 参数变量。在于类中调用普通函数时并不需要带上 self 参数。\n",
    "3. Python 总是首先查找对应类型的方法，如果它不能在派生类中找到对应的方法，它才开始到基类中逐个查找。"
   ]
  },
  {
   "cell_type": "code",
   "execution_count": 87,
   "metadata": {},
   "outputs": [
    {
     "name": "stdout",
     "output_type": "stream",
     "text": [
      "调用子类构造方法--Child类\n",
      "调用子类方法--Child类\n",
      "父类方法--Parent类\n",
      "父类属性 : 2000\n",
      "-------------------\n",
      "调用子类构造方法--Family类\n",
      "调用子类方法--Family类\n",
      "父类方法--Parent类\n",
      "调用子类方法--Child类\n",
      "父类属性 : 1000\n"
     ]
    }
   ],
   "source": [
    "class Parent: # 定义父类\n",
    "    parentAttr = 100\n",
    "    \n",
    "    def __init__(self):\n",
    "        print(\"父类构造函数\")\n",
    "    \n",
    "    def parentMethod(self):\n",
    "        print(\"父类方法--Parent类\")\n",
    "    \n",
    "    def setAttr(self, attr):\n",
    "        Parent.parentAttr = attr\n",
    "    \n",
    "    def getAttr(self):\n",
    "        print(\"父类属性 :\", Parent.parentAttr) \n",
    "        \n",
    "class Child(Parent): # 定义子类\n",
    "    def __init__(self):\n",
    "        print(\"调用子类构造方法--Child类\")\n",
    "    def childMethod(self):\n",
    "        print(\"调用子类方法--Child类\")\n",
    "        \n",
    "class Family(Child, Parent): # 多继承\n",
    "    def __init__(self):\n",
    "        print(\"调用子类构造方法--Family类\")\n",
    "    def familyMethod(self):\n",
    "        print(\"调用子类方法--Family类\")\n",
    "\n",
    "c = Child()          # 实例化子类\n",
    "c.childMethod()      # 调用子类的方法\n",
    "c.parentMethod()     # 调用父类方法\n",
    "c.setAttr(2000)      # 再次调用父类的方法 - 设置属性值\n",
    "c.getAttr()          # 再次调用父类的方法 - 获取属性\n",
    "\n",
    "print(\"-------------------\")\n",
    "f = Family()\n",
    "f.familyMethod()\n",
    "f.parentMethod()\n",
    "f.childMethod()\n",
    "f.setAttr(1000)\n",
    "f.getAttr()"
   ]
  },
  {
   "cell_type": "markdown",
   "metadata": {},
   "source": [
    "使用issubclass()或者isinstance()方法来检测派生与继承关系。\n",
    "- issubclass() - 布尔函数判断一个类是另一个类的子类或者子孙类，语法：issubclass(sub,sup)\n",
    "- isinstance(obj, Class) 布尔函数如果obj是Class类的实例对象或者是一个Class子类的实例对象则返回true"
   ]
  },
  {
   "cell_type": "markdown",
   "metadata": {},
   "source": [
    "### 方法重写（覆盖）"
   ]
  },
  {
   "cell_type": "code",
   "execution_count": 90,
   "metadata": {},
   "outputs": [
    {
     "name": "stdout",
     "output_type": "stream",
     "text": [
      "调用子类方法\n"
     ]
    }
   ],
   "source": [
    "class Parent:        # 定义父类\n",
    "    def myMethod(self):\n",
    "        print(\"调用父类方法\")\n",
    "\n",
    "class Child(Parent): # 定义子类\n",
    "    def myMethod(self):\n",
    "        print(\"调用子类方法\")\n",
    "\n",
    "c = Child()          # 子类实例\n",
    "c.myMethod()         # 子类调用重写方法"
   ]
  },
  {
   "cell_type": "markdown",
   "metadata": {},
   "source": [
    "### 基础重载方法"
   ]
  },
  {
   "cell_type": "markdown",
   "metadata": {},
   "source": [
    "1. 构造函数：\\_\\_init\\_\\_(self \\[,args...\\])，调用方法：obj = className（args）\n",
    "2. 析构函数：\\_\\_del\\_\\_(self)，调用方法：del obj\n",
    "3. 转化为解释器读取形式：\\_\\_repr\\_\\_(self)，调用方法：repr（obj）\n",
    "4. 值转化为阅读形式：\\_\\_str\\_\\_(self)，调用方法：str（obj）\n",
    "5. 对象比较：\\_\\_cmp\\_\\_(self,x)，调用方法：cmp（obj，x）"
   ]
  },
  {
   "cell_type": "markdown",
   "metadata": {},
   "source": [
    "以上通用的方法，都可以在定义的类中重写。"
   ]
  },
  {
   "cell_type": "markdown",
   "metadata": {},
   "source": [
    "### 运算符重载"
   ]
  },
  {
   "cell_type": "code",
   "execution_count": 91,
   "metadata": {},
   "outputs": [
    {
     "name": "stdout",
     "output_type": "stream",
     "text": [
      "Point (7, 8)\n"
     ]
    }
   ],
   "source": [
    "class Point:\n",
    "    def __init__(self, x, y):\n",
    "        self.x = x\n",
    "        self.y = y\n",
    "    \n",
    "    def __str__(self):\n",
    "        return 'Point (%d, %d)' % (self.x, self.y)\n",
    "    \n",
    "    def __add__(self,other):\n",
    "        return Point(self.x + other.x, self.y + other.y)\n",
    "\n",
    "point1 = Point(2,10)\n",
    "point2 = Point(5,-2)\n",
    "print(point1 + point2)"
   ]
  },
  {
   "cell_type": "markdown",
   "metadata": {},
   "source": [
    "## 类的属性与方法"
   ]
  },
  {
   "cell_type": "markdown",
   "metadata": {},
   "source": [
    "### 类的私有属性"
   ]
  },
  {
   "cell_type": "markdown",
   "metadata": {},
   "source": [
    "\\_\\_private\\_attrs：两个下划线开头，声明该属性为私有，不能在类的外部被使用或直接访问。在类内部的方法中使用时 self.\\_\\_private\\_attrs。"
   ]
  },
  {
   "cell_type": "markdown",
   "metadata": {},
   "source": [
    "### 类的方法"
   ]
  },
  {
   "cell_type": "markdown",
   "metadata": {},
   "source": [
    "在类的内部，使用 def 关键字可以为类定义一个方法，与一般函数定义不同，类方法必须包含参数 self,且为第一个参数。这里的self类似与C++中隐含的指向对象的指针，即this指针"
   ]
  },
  {
   "cell_type": "markdown",
   "metadata": {},
   "source": [
    "### 类的私有方法"
   ]
  },
  {
   "cell_type": "markdown",
   "metadata": {},
   "source": [
    "\\_\\_private\\_method：两个下划线开头，声明该方法为私有方法，不能在类的外部调用。在类的内部调用 self.\\_\\_private_methods"
   ]
  },
  {
   "cell_type": "code",
   "execution_count": 109,
   "metadata": {},
   "outputs": [
    {
     "name": "stdout",
     "output_type": "stream",
     "text": [
      "1\n",
      "2\n",
      "2\n",
      "secretCount: 2 publicCount: 2\n",
      "3\n",
      "3\n",
      "3 3\n"
     ]
    }
   ],
   "source": [
    "class JustCounter:\n",
    "    __secretCount = 0  # 私有属性，变量\n",
    "    publicCount = 0    # 共有属性，变量\n",
    "    \n",
    "    def count(self):\n",
    "        self.__secretCount += 1\n",
    "        self.publicCount += 1\n",
    "        print(self.__secretCount)\n",
    "        \n",
    "    def __prt(self):\n",
    "        print(self.__secretCount,self.publicCount)\n",
    "    \n",
    "    def show(self):\n",
    "        print(\"secretCount:\", self.__secretCount, \"publicCount:\", self.publicCount)\n",
    "        \n",
    "myCounter = JustCounter()\n",
    "myCounter.count()\n",
    "myCounter.count()\n",
    "print(myCounter.publicCount)\n",
    "# print myCounter.__secretCount  # 报错，实例不能访问私有属性（变量）\n",
    "myCounter.show()\n",
    "#myCounter.__prt() # 报错，实例不能访问私有方法（函数）\n",
    "\n",
    "myCounter.count()\n",
    "print(myCounter._JustCounter__secretCount) #通过类名访问私有属性（变量）\n",
    "myCounter._JustCounter__prt() #通过类名访问私有属性（函数）"
   ]
  },
  {
   "cell_type": "markdown",
   "metadata": {},
   "source": [
    "以上例子说明：Python不允许实例化的类访问私有数据，但你可以使用 object._className__attrName（ 对象名._类名__私有属性名 ）访问属性"
   ]
  },
  {
   "cell_type": "markdown",
   "metadata": {},
   "source": [
    "### 单下划线、双下划线、头尾双下划线说明"
   ]
  },
  {
   "cell_type": "markdown",
   "metadata": {},
   "source": [
    "\\_\\_foo\\_\\_: 定义的是特殊方法，一般是系统定义名字 ，类似 \\_\\_init\\_\\_() 之类的。\n",
    "\n",
    "\\_foo: 以单下划线开头的表示的是 protected 类型的变量，即保护类型只能允许其本身与子类进行访问，不能用于 from module import *\n",
    "\n",
    "\\_\\_foo: 双下划线的表示的是私有类型(private)的变量, 只能是允许这个类本身进行访问。"
   ]
  },
  {
   "cell_type": "markdown",
   "metadata": {},
   "source": [
    "### 类的内置方法汇总"
   ]
  },
  {
   "cell_type": "markdown",
   "metadata": {},
   "source": [
    "- \\_\\_init\\_\\_(self,...)      说明：初始化对象，在创建新对象时调用\n",
    "- \\_\\_del\\_\\_(self)      说明：释放对象，在对象被删除之前调用\n",
    "- \\_\\_new\\_\\_(cls, \\*args, \\*\\*kwd)      说明：实例的生成操作\n",
    "- \\_\\_str\\_\\_(self)      说明：在使用print语句时被调用\n",
    "- \\_\\_getitem\\_\\_(self,key)      说明：获取序列的索引key对应的值，等价于seq\\[key\\]\n",
    "- \\_\\_len\\_\\_(self)      说明：在调用内联函数len()时被调用\n",
    "- \\_\\_cmp\\_\\_(src,dst)      说明：比较两个对象src和dst\n",
    "- \\_\\_getattr\\_\\_(s,name)      说明：获取属性的值\n",
    "- \\_\\_setattr\\_\\_(s,name,value)      说明：设置属性的值\n",
    "- \\_\\_delattr\\_\\_(s,name)      说明：删除name属性\n",
    "- \\_\\_getattribute\\_\\_()      说明：\\_\\_getattribute\\_\\_()功能与\\_\\_getattr\\_\\_()类似\n",
    "- \\_\\_gt\\_\\_(self,other)      说明：判断self对象是否大于other对象\n",
    "- \\_\\_lt\\_\\_(self,other)      说明：判断self对象是否小于other对象\n",
    "- \\_\\_ge\\_\\_(self,other)      说明：判断self对象是否大于或者等于other对\n",
    "- \\_\\_le\\_\\_(self,other)      说明：判断self对象是否小于或者等于other对象\n",
    "- \\_\\_eq\\_\\_(self,other)      说明：判断self对象是否等于other对象\n",
    "- \\_\\_call\\_\\_(self,\\*args)      说明：把实例对象作为函数调用"
   ]
  },
  {
   "cell_type": "markdown",
   "metadata": {},
   "source": [
    "<font color = blue>**\\_\\_init\\_\\_()方法**"
   ]
  },
  {
   "cell_type": "code",
   "execution_count": 111,
   "metadata": {},
   "outputs": [
    {
     "name": "stdout",
     "output_type": "stream",
     "text": [
      "Hello, my name is Cyrus Zhang\n"
     ]
    }
   ],
   "source": [
    "class Person:\n",
    "    def __init__(self, name):\n",
    "        self.name = name\n",
    "    def sayHi(self):\n",
    "        print(\"Hello, my name is\", self.name)\n",
    "\n",
    "p = Person('Cyrus Zhang')\n",
    "p.sayHi()"
   ]
  },
  {
   "cell_type": "markdown",
   "metadata": {},
   "source": [
    "<font color = blue>**\\_\\_new\\_\\_()方法**"
   ]
  },
  {
   "cell_type": "markdown",
   "metadata": {},
   "source": [
    "说明：在\\_\\_init\\_\\_()之前被调用，用于生成实例对象。利用这个方法和类属性的特性可以实现设计模式中的单例模式。单例模式是指创建唯一对象，单例模式设计的类只能实例化一个对象。"
   ]
  },
  {
   "cell_type": "code",
   "execution_count": 112,
   "metadata": {},
   "outputs": [],
   "source": [
    "class Singleton(object):\n",
    "    __instance = None                       # 定义实例\n",
    " \n",
    "    def __init__(self):\n",
    "        pass\n",
    " \n",
    "    def __new__(cls, *args, **kwd):         # 在__init__之前调用\n",
    "        if Singleton.__instance is None:    # 生成唯一实例\n",
    "            Singleton.__instance = object.__new__(cls, *args, **kwd)\n",
    "        return Singleton.__instance"
   ]
  },
  {
   "cell_type": "markdown",
   "metadata": {},
   "source": [
    "<font color = blue>**\\_\\_getattr\\_\\_()、\\_\\_setattr\\_\\_()和\\_\\_getattribute\\_\\_()方法**"
   ]
  },
  {
   "cell_type": "markdown",
   "metadata": {},
   "source": [
    "说明：当读取对象的某个属性时，python会自动调用__getattr__()方法。例如，fruit.color将转换为fruit.\\_\\_getattr\\_\\_(color)。当使用赋值语句对属性进行设置时，python会自动调用\\_\\_setattr\\_\\_()方法。\\_\\_getattribute\\_\\_()的功能与\\_\\_getattr\\_\\_()类似，用于获取属性的值。但是\\_\\_getattribute\\_\\_()能提供更好的控制，代码更健壮。注意，python中并不存在\\_\\_setattribute\\_\\_()方法"
   ]
  },
  {
   "cell_type": "code",
   "execution_count": 115,
   "metadata": {},
   "outputs": [
    {
     "name": "stdout",
     "output_type": "stream",
     "text": [
      "blue\n",
      "5\n"
     ]
    }
   ],
   "source": [
    "class Fruit(object):\n",
    "    def __init__(self, color=\"red\", price=0):\n",
    "        self.__color = color\n",
    "        self.__price = price\n",
    " \n",
    "    def __getattribute__(self, item):\n",
    "        return object.__getattribute__(self, item)\n",
    " \n",
    "    def __setattr__(self, key, value):\n",
    "        self.__dict__[key] = value\n",
    "\n",
    "if __name__ == \"__main__\":\n",
    "    fruit = Fruit(\"blue\", 10)\n",
    "    print(fruit.__dict__.get(\"_Fruit__color\"))\n",
    "    fruit.__dict__[\"_Fruit__price\"] = 5\n",
    "    print(fruit.__dict__.get(\"_Fruit__price\"))"
   ]
  },
  {
   "cell_type": "markdown",
   "metadata": {},
   "source": [
    "<font color = blue>**\\_\\_getitem\\_\\_()方法**"
   ]
  },
  {
   "cell_type": "markdown",
   "metadata": {},
   "source": [
    "说明：如果类把某个属性定义为序列，可以使用\\_\\_getitem\\_\\_()输出序列属性中的某个元素。假设水果店中销售多钟水果，可以通过\\_\\_getitem\\_\\_()方法获取水果店中的每种水果。"
   ]
  },
  {
   "cell_type": "code",
   "execution_count": 119,
   "metadata": {},
   "outputs": [
    {
     "name": "stdout",
     "output_type": "stream",
     "text": [
      "banana\n",
      "apple banana orange "
     ]
    }
   ],
   "source": [
    "class FruitShop:\n",
    "    def __getitem__(self, i):      # 获取水果店的水果\n",
    "        return self.fruits[i]\n",
    "\n",
    "if __name__ == \"__main__\":\n",
    "    shop = FruitShop()\n",
    "    shop.fruits = [\"apple\", \"banana\", \"orange\"]\n",
    "    print(shop[1])\n",
    "    for item in shop:               # 输出水果店的水果\n",
    "        print(item, end = ' ')"
   ]
  },
  {
   "cell_type": "markdown",
   "metadata": {},
   "source": [
    "<font color = blue>**\\_\\_str\\_\\_()方法**"
   ]
  },
  {
   "cell_type": "markdown",
   "metadata": {},
   "source": [
    "说明：用于表示对象代表的含义，返回一个字符串。实现了\\_\\_str\\_\\_()方法后，可以直接使用print语句输出对象，也可以通过函数str()触发\\_\\_str\\_\\_()的执行。这样就把对象和字符串关联起来，便于某些程序的实现，可以用这个字符串来表示某个类。"
   ]
  },
  {
   "cell_type": "code",
   "execution_count": 125,
   "metadata": {},
   "outputs": [
    {
     "name": "stdout",
     "output_type": "stream",
     "text": [
      "output sth\n",
      "Fruit类\n",
      "output sth\n",
      "Fruit类\n"
     ]
    }
   ],
   "source": [
    "class Fruit:\n",
    "    '''Fruit类'''               #为Fruit类定义了文档字符串\n",
    "    def __str__(self):          # 定义对象的字符串表示\n",
    "        print(\"output sth\")\n",
    "        return self.__doc__\n",
    "\n",
    "if __name__ == \"__main__\":\n",
    "    fruit = Fruit()\n",
    "    \n",
    "print(str(fruit))            # 调用内置函数str()触发__str__()方法，输出结果为:Fruit类\n",
    "print(fruit)  "
   ]
  },
  {
   "cell_type": "markdown",
   "metadata": {},
   "source": [
    "<font color = blue>**\\_\\_call\\_\\_()方法**"
   ]
  },
  {
   "cell_type": "markdown",
   "metadata": {},
   "source": [
    "说明：在类中实现\\_\\_call\\_\\_()方法，可以在对象创建时直接返回\\_\\_call\\_\\_()的内容。使用该方法可以模拟静态方法。"
   ]
  },
  {
   "cell_type": "code",
   "execution_count": 130,
   "metadata": {},
   "outputs": [
    {
     "name": "stdout",
     "output_type": "stream",
     "text": [
      "grow ...\n",
      "grow ...\n"
     ]
    }
   ],
   "source": [
    "class Fruit:\n",
    "    class Growth:        # 内部类\n",
    "        def __call__(self):\n",
    "            print (\"grow ...\")\n",
    " \n",
    "    grow = Growth()      # 调用Growth()，此时将类Growth作为函数返回,即为外部类Fruit定义方法grow(),grow()将执行__call__()内的代码\n",
    "\n",
    "if __name__ == '__main__':\n",
    "    fruit = Fruit()\n",
    "    fruit.grow()         # 输出结果：grow ...\n",
    "    Fruit.grow()         # 输出结果：grow ..."
   ]
  },
  {
   "cell_type": "markdown",
   "metadata": {},
   "source": [
    "## <font color = red>类属性、实例属性、类方法、实例方法及静态方法详细说明"
   ]
  },
  {
   "cell_type": "markdown",
   "metadata": {},
   "source": [
    "<font color = red>**类属性**：</font>类对象所拥有的属性，被所有类对象的实例对象共有，在内存中只有一个副本（这一点与C++不同，C++每个对象在内存中都有一个副本），特点和C++中的静态成员变量有些类似。"
   ]
  },
  {
   "cell_type": "code",
   "execution_count": 132,
   "metadata": {},
   "outputs": [
    {
     "name": "stdout",
     "output_type": "stream",
     "text": [
      "jack\n",
      "jack\n"
     ]
    }
   ],
   "source": [
    "class people:\n",
    "    name = 'jack'  #公有的类属性\n",
    "    __age = 12     #私有的类属性\n",
    "\n",
    "p = people()\n",
    " \n",
    "print(p.name)             #正确\n",
    "print(people.name)        #正确\n",
    "# print(p.__age)            #错误，不能在类外通过实例对象访问私有的类属性\n",
    "# print(people.__age)       #错误，不能在类外通过类对象访问私有的类属性"
   ]
  },
  {
   "cell_type": "markdown",
   "metadata": {},
   "source": [
    "<font color = red>**实例属性不需要在类中显示定义**：</font>"
   ]
  },
  {
   "cell_type": "code",
   "execution_count": 137,
   "metadata": {},
   "outputs": [
    {
     "name": "stdout",
     "output_type": "stream",
     "text": [
      "jack\n",
      "12\n",
      "jack\n"
     ]
    }
   ],
   "source": [
    "class people:\n",
    "    name = 'jack'\n",
    "\n",
    "p = people()\n",
    "p.age =12\n",
    "print(p.name)    #正确\n",
    "print(p.age)     #正确\n",
    " \n",
    "print(people.name)    #正确\n",
    "# print(people.age)     #错误:type object 'people' has no attribute 'age'"
   ]
  },
  {
   "cell_type": "markdown",
   "metadata": {},
   "source": [
    "<font color = red>**类方法、实例方法、静态方法的区别：**</font>"
   ]
  },
  {
   "cell_type": "markdown",
   "metadata": {},
   "source": [
    "<font color = red>**类方法**：</font>类对象拥有的方法，需要用修饰器\"@classmethod\"来标识其为类方法。对于类方法，第一个参数必须是类对象，一般以\"cls\"作为第一个参数（当然可以用其他名称的变量作为其第一个参数，但习惯上以'cls'作为第一个参数的名字），能够通过实例对象和类对象去访问。"
   ]
  },
  {
   "cell_type": "code",
   "execution_count": 138,
   "metadata": {},
   "outputs": [
    {
     "name": "stdout",
     "output_type": "stream",
     "text": [
      "china\n",
      "china\n"
     ]
    }
   ],
   "source": [
    "class people:\n",
    "    country = 'china'\n",
    "    \n",
    "    #类方法，用classmethod来进行修饰\n",
    "    @classmethod\n",
    "    def getCountry(cls):\n",
    "        return cls.country\n",
    "\n",
    "p = people()\n",
    "print(p.getCountry())    #可以用过实例对象引用\n",
    "print(people.getCountry())    #可以通过类对象引用"
   ]
  },
  {
   "cell_type": "markdown",
   "metadata": {},
   "source": [
    "<font color = red>**类方法一个用途**：</font>对类属性进行修改。结果显示,在用类方法对类属性修改之后，通过类对象和实例对象访问都发生了改变。"
   ]
  },
  {
   "cell_type": "code",
   "execution_count": 143,
   "metadata": {},
   "outputs": [
    {
     "name": "stdout",
     "output_type": "stream",
     "text": [
      "china\n",
      "china\n",
      "japan\n",
      "japan\n",
      "America\n",
      "America\n"
     ]
    }
   ],
   "source": [
    "class people:\n",
    "    country = 'china'\n",
    "    \n",
    "    #类方法，用classmethod来进行修饰\n",
    "    @classmethod\n",
    "    def getCountry(cls):\n",
    "        return cls.country\n",
    "        \n",
    "    @classmethod\n",
    "    def setCountry(cls,country):\n",
    "        cls.country = country\n",
    "\n",
    "p = people()\n",
    "print(p.getCountry())    #可以用过实例对象引用\n",
    "print(people.getCountry())    #可以通过类对象引用\n",
    " \n",
    "p.setCountry('japan')\n",
    "print(p.getCountry())\n",
    "print(people.getCountry())\n",
    "\n",
    "people.setCountry('America')\n",
    "print(p.getCountry())\n",
    "print(people.getCountry())"
   ]
  },
  {
   "cell_type": "markdown",
   "metadata": {},
   "source": [
    "<font color = red>**实例方法**：</font>类中最常定义的成员方法，它至少有一个参数并且必须以实例对象作为其第一个参数，一般以名为'self'的变量作为第一个参数（当然可以以其他名称的变量作为第一个参数）。<font color = red>**在类外实例方法只能通过实例对象去调用，不能通过其他方式去调用。**</font>"
   ]
  },
  {
   "cell_type": "code",
   "execution_count": 146,
   "metadata": {},
   "outputs": [
    {
     "name": "stdout",
     "output_type": "stream",
     "text": [
      "china\n"
     ]
    }
   ],
   "source": [
    "class people:\n",
    "    country = 'china'\n",
    "    \n",
    "    #实例方法\n",
    "    def getCountry(self):\n",
    "        return self.country\n",
    "\n",
    "p = people()\n",
    "print(p.getCountry())         #正确，可以用过实例对象引用\n",
    "# print(people.getCountry())    #错误，不能通过类对象引用实例方法"
   ]
  },
  {
   "cell_type": "markdown",
   "metadata": {},
   "source": [
    "<font color = red>**静态方法**：</font>需要通过修饰器\"@staticmethod\"来进行修饰，静态方法不需要定义参数，即可以不需要self参数"
   ]
  },
  {
   "cell_type": "code",
   "execution_count": 147,
   "metadata": {},
   "outputs": [
    {
     "name": "stdout",
     "output_type": "stream",
     "text": [
      "china\n"
     ]
    }
   ],
   "source": [
    "class people:\n",
    "    country = 'china'\n",
    "    \n",
    "    @staticmethod\n",
    "    #静态方法\n",
    "    def getCountry():\n",
    "        return people.country\n",
    "        \n",
    "print(people.getCountry())"
   ]
  },
  {
   "cell_type": "markdown",
   "metadata": {},
   "source": [
    "<font color = red>**注意:**</font>对于类属性和实例属性，如果在类方法中引用某个属性，该属性必定是类属性，而如果在实例方法中引用某个属性（不作更改），并且存在同名的类属性，此时若实例对象有该名称的实例属性，则实例属性会屏蔽类属性，即引用的是实例属性。若实例对象没有该名称的实例属性，则引用的是类属性；如果在实例方法更改某个属性，并且存在同名的类属性，此时若实例对象有该名称的实例属性，则修改的是实例属性，若实例对象没有该名称的实例属性，则会创建一个同名称的实例属性。想要修改类属性，如果在类外，可以通过类对象修改，如果在类里面，只有在类方法中进行修改。"
   ]
  },
  {
   "cell_type": "markdown",
   "metadata": {},
   "source": [
    "<font color = red>**注意:**</font>从类方法、实例方法、静态方法的定义形式就可看出：\n",
    "- 类方法的第一个参数是类对象cls，那么通过cls引用的必定是类对象的属性和方法\n",
    "- 实例方法的第一个参数是实例对象self，那么通过self引用的可能是类属性、也有可能是实例属性（这个需要具体分析），<font color = red>不过在存在相同名称的类属性和实例属性的情况下，实例属性优先级更高</font>\n",
    "- 静态方法中不需要额外定义参数，因此在静态方法中引用类属性的话，必须通过类对象来引用"
   ]
  },
  {
   "cell_type": "markdown",
   "metadata": {},
   "source": [
    "## <font color = red>继承和多重继承的详细说明"
   ]
  },
  {
   "cell_type": "markdown",
   "metadata": {},
   "source": [
    "面向对象的三大特征：封装，体现在类的基本定义和使用方法中；继承（派生），体现在父类（或称为超类）与子类的关系中；多态，体现在运行过程中。"
   ]
  },
  {
   "cell_type": "markdown",
   "metadata": {},
   "source": [
    "继承的基本形式："
   ]
  },
  {
   "cell_type": "code",
   "execution_count": null,
   "metadata": {},
   "outputs": [],
   "source": [
    "#父类\n",
    "class SuperClassName:\n",
    "    # 父类block\n",
    "\n",
    "#子类\n",
    "class SubClassName(SuperClassName):\n",
    "    # 子类block"
   ]
  },
  {
   "cell_type": "code",
   "execution_count": 157,
   "metadata": {},
   "outputs": [],
   "source": [
    "class UniversityMember:\n",
    "    '''UniversityMember类'''\n",
    "    def __init__(self,name,age):\n",
    "        self.name = name\n",
    "        self.age = age\n",
    " \n",
    "    def getName(self):\n",
    "        return self.name\n",
    " \n",
    "    def getAge(self):\n",
    "        return self.age\n",
    "\n",
    "class Student(UniversityMember):\n",
    "    '''Student类'''\n",
    "    def __init__(self,name,age,sno,mark):\n",
    "        UniversityMember.__init__(self,name,age)     #注意要显示调用父类构造方法，并传递参数self\n",
    "        self.sno = sno\n",
    "        self.mark = mark\n",
    " \n",
    "    def getSno(self):\n",
    "        return self.sno\n",
    " \n",
    "    def getMark(self):\n",
    "        return self.mark\n",
    "\n",
    "class Teacher(UniversityMember):\n",
    "    '''Teacher类'''\n",
    "    def __init__(self,name,age,tno,salary):\n",
    "        UniversityMember.__init__(self,name,age)\n",
    "        self.tno = tno\n",
    "        self.salary = salary\n",
    " \n",
    "    def getTno(self):\n",
    "        return self.tno\n",
    " \n",
    "    def getSalary(self):\n",
    "        return self.salary"
   ]
  },
  {
   "cell_type": "markdown",
   "metadata": {},
   "source": [
    "主要注意：\n",
    "- 在Python中，如果父类和子类都重新定义了构造方法__init( )__，在进行子类实例化的时候，子类的构造方法不会自动调用父类的构造方法，必须在子类中显示调用。\n",
    "- 如果需要在子类中调用父类的方法，需要以“父类名.方法”这种方式调用，以这种方式调用的时候，注意要传递self参数过去。\n",
    "- 对于继承关系，子类继承了父类所有的公有属性和方法，可以在子类中通过父类名来调用，而对于私有的属性和方法，子类不继承，因此在子类中是无法通过父类名来访问的。\n",
    "- Python支持多重继承。对于多重继承，比如class SubClass(SuperClass1,SuperClass2)，需要注意：<font color = red>如果SubClass没有重新定义构造方法，它会自动调用哪个父类的构造方法？以第一个父类为中心，来解决这个问题。如果SubClass重新定义了构造方法，需要显示去调用父类的构造方法，此时调用哪个父类的构造方法由类设计者决定；若SubClass没有重新定义构造方法，则只会执行第一个父类的构造方法。若SuperClass1和SuperClass2中有同名的方法，通过子类的实例化对象去调用该方法时调用的是第一个父类中的方法。</font>"
   ]
  },
  {
   "cell_type": "markdown",
   "metadata": {},
   "source": [
    "## <font color = red>多态的详细说明"
   ]
  },
  {
   "cell_type": "markdown",
   "metadata": {},
   "source": [
    "<font color = red>**多态：**</font>在运行时确定其状态，在编译阶段无法确定其类型，这就是多态。Python本身是一种解释性语言，不进行预编译，因此它只在运行时确定状态，故Python是一种多态语言。重载函数是最基本的多态。\n",
    "\n",
    "- <font color = red>多态:</font>对不同的对象使用同样的操作，但它们可能会以多种形态呈现出结果。由于有编译过程，因此就鲜明地分成了运行时多态和编译时多态。\n",
    "- <font color = red>运行时多态:</font>允许父类指针或名称来引用子类对象，或对象方法，而实际调用的方法为对象的类类型方法，这就是所谓的动态绑定。\n",
    "- <font color = red>编译时多态:</font>有模板或范型、方法重载（overload）、方法重写（override）等。\n",
    "\n",
    "Python是动态语言，动态地确定类型信息本身体现了多态的特征。在Python中，任何不知道对象到底是什么类型，但又需要对象做点什么的时候，都会用到多态。"
   ]
  },
  {
   "cell_type": "markdown",
   "metadata": {},
   "source": [
    "<font color = red>**方法多态：**"
   ]
  },
  {
   "cell_type": "code",
   "execution_count": 159,
   "metadata": {},
   "outputs": [
    {
     "name": "stdout",
     "output_type": "stream",
     "text": [
      "<class 'str'>\n",
      "0\n"
     ]
    }
   ],
   "source": [
    "_metaclass_ = type # 确定使用新式类\n",
    "class calculator:\n",
    "  \n",
    "    def count(self,args):\n",
    "        return 1\n",
    "\n",
    "calc = calculator() #自定义类型\n",
    " \n",
    "from random import choice\n",
    "\n",
    "obj=choice(['hello,world',[1,2,3],calc]) #obj是随机返回的 类型不确定\n",
    "print(type(obj))\n",
    "print(obj.count('a')) #方法多态"
   ]
  },
  {
   "cell_type": "markdown",
   "metadata": {},
   "source": [
    "<font color = red>注意：</font>对于一个临时对象obj，它通过Python的随机函数取出来，不知道具体类型（是字符串、元组还是自定义类型），都可以调用count方法进行计算，至于count由谁（哪种类型）去做怎么去实现我们并不关心。"
   ]
  },
  {
   "cell_type": "markdown",
   "metadata": {},
   "source": [
    "有一种称为\"鸭子类型（duck typing）\"的东西，讲的也是多态："
   ]
  },
  {
   "cell_type": "code",
   "execution_count": 162,
   "metadata": {},
   "outputs": [
    {
     "name": "stdout",
     "output_type": "stream",
     "text": [
      "呱呱叫!\n",
      "鸭子有白色和灰色的羽毛.\n",
      "人模仿鸭子呱呱叫\n",
      "人假装披了鸭子的羽毛.\n"
     ]
    }
   ],
   "source": [
    "_metaclass_ = type # 确定使用新式类\n",
    "class Duck:\n",
    "    def quack(self): \n",
    "        print(\"呱呱叫!\")\n",
    "    def feathers(self): \n",
    "        print(\"鸭子有白色和灰色的羽毛.\")\n",
    "\n",
    "class Person:\n",
    "    def quack(self):\n",
    "        print(\"人模仿鸭子呱呱叫\")\n",
    "    def feathers(self): \n",
    "        print(\"人假装披了鸭子的羽毛.\")\n",
    "\n",
    "def in_the_forest(duck):\n",
    "    duck.quack()\n",
    "    duck.feathers()\n",
    "    \n",
    "def game():\n",
    "    donald = Duck()\n",
    "    john = Person()\n",
    "    in_the_forest(donald)\n",
    "    in_the_forest(john)\n",
    "    \n",
    "game()"
   ]
  },
  {
   "cell_type": "markdown",
   "metadata": {},
   "source": [
    "就in_the_forest函数而言，参数对象是一个鸭子类型，它实现了方法多态。但是实际上我们知道，从严格的抽象来讲，Person类型和Duck是两个完全不同的类。"
   ]
  },
  {
   "cell_type": "markdown",
   "metadata": {},
   "source": [
    "<font color = red>**运算符多态：**"
   ]
  },
  {
   "cell_type": "code",
   "execution_count": 173,
   "metadata": {},
   "outputs": [
    {
     "name": "stdout",
     "output_type": "stream",
     "text": [
      "3\n",
      "hello,world\n",
      "Point (7, 8)\n",
      "UniversityMember prt function is called\n",
      "Student prt function is called\n",
      "Teacher prt function is called\n",
      "UniversityMember prt function is called\n",
      "Student prt function is called\n",
      "Teacher prt function is called\n"
     ]
    }
   ],
   "source": [
    "def add(x,y):\n",
    "    return x+y\n",
    " \n",
    "print(add(1,2)) #输出3\n",
    " \n",
    "print(add(\"hello,\",\"world\")) #输出hello,world\n",
    " \n",
    "# print(add(1,\"abc\")) #抛出异常 TypeError: unsupported operand type(s) for +: 'int' and 'st\n",
    "\n",
    "class Point:\n",
    "    def __init__(self, x, y):\n",
    "        self.x = x\n",
    "        self.y = y\n",
    "    \n",
    "    def __str__(self):\n",
    "        return 'Point (%d, %d)' % (self.x, self.y)\n",
    "    \n",
    "    def __add__(self,other):\n",
    "        return Point(self.x + other.x, self.y + other.y)\n",
    "\n",
    "point1 = Point(2,10)\n",
    "point2 = Point(5,-2)\n",
    "print(point1 + point2)\n",
    "\n",
    "class UniversityMember:\n",
    "    '''UniversityMember类'''\n",
    "    def __init__(self,name,age):\n",
    "        self.name = name\n",
    "        self.age = age\n",
    "    \n",
    "    def prt(self):\n",
    "        print(\"UniversityMember prt function is called\")\n",
    "\n",
    "class Student(UniversityMember):\n",
    "    '''Student类'''\n",
    "    def __init__(self,name,age,sno,mark):\n",
    "        UniversityMember.__init__(self,name,age)     #注意要显示调用父类构造方法，并传递参数self\n",
    "        self.sno = sno\n",
    "        self.mark = mark\n",
    "    \n",
    "    def prt(self):\n",
    "        print(\"Student prt function is called\")\n",
    "\n",
    "class Teacher(UniversityMember):\n",
    "    '''Teacher类'''\n",
    "    def __init__(self,name,age,tno,salary):\n",
    "        UniversityMember.__init__(self,name,age)\n",
    "        self.tno = tno\n",
    "        self.salary = salary\n",
    "    \n",
    "    def prt(self):\n",
    "        print(\"Teacher prt function is called\")\n",
    "\n",
    "def show(member):\n",
    "    member.prt()\n",
    "\n",
    "if __name__ == '__main__':\n",
    "    universityMember = UniversityMember('zhang',30)\n",
    "    studentMember = Student('zhang',30,'101010','leader')\n",
    "    teacherMember = Teacher('zhang',30,'130106',10000)\n",
    "    \n",
    "    show(universityMember)\n",
    "    show(studentMember)\n",
    "    show(teacherMember)\n",
    "    \n",
    "    universityMember.prt()\n",
    "    studentMember.prt()\n",
    "    teacherMember.prt()\n",
    "    "
   ]
  },
  {
   "cell_type": "markdown",
   "metadata": {},
   "source": [
    "说明：Python的加法运算符是”多态“的，理论上，实现的add方法支持任意支持加法的对象，但是不用关心两个参数x和y具体是什么类型。文档之前提到的运算符重载，也属于运算符多态。"
   ]
  },
  {
   "cell_type": "markdown",
   "metadata": {},
   "source": [
    "<font color = red>注意：面向对象最有价值最被低估的特征其实是多态。我们所理解的多态的实现和子类的虚函数地址绑定有关系，多态的效果其实和函数地址运行时动态绑定有关。在C++, Java, C#中实现多态的方式通常有重写和重载两种，从上面代码可以看出，Python中实现多态也可以变相理解为重写和重载。在Python中很多内置函数和运算符都是多态的。"
   ]
  },
  {
   "cell_type": "code",
   "execution_count": null,
   "metadata": {},
   "outputs": [],
   "source": []
  },
  {
   "cell_type": "code",
   "execution_count": null,
   "metadata": {},
   "outputs": [],
   "source": []
  },
  {
   "cell_type": "code",
   "execution_count": null,
   "metadata": {},
   "outputs": [],
   "source": []
  },
  {
   "cell_type": "code",
   "execution_count": null,
   "metadata": {},
   "outputs": [],
   "source": []
  },
  {
   "cell_type": "code",
   "execution_count": null,
   "metadata": {},
   "outputs": [],
   "source": []
  },
  {
   "cell_type": "code",
   "execution_count": null,
   "metadata": {},
   "outputs": [],
   "source": []
  },
  {
   "cell_type": "code",
   "execution_count": null,
   "metadata": {},
   "outputs": [],
   "source": []
  }
 ],
 "metadata": {
  "kernelspec": {
   "display_name": "Python 3",
   "language": "python",
   "name": "python3"
  },
  "language_info": {
   "codemirror_mode": {
    "name": "ipython",
    "version": 3
   },
   "file_extension": ".py",
   "mimetype": "text/x-python",
   "name": "python",
   "nbconvert_exporter": "python",
   "pygments_lexer": "ipython3",
   "version": "3.8.5"
  }
 },
 "nbformat": 4,
 "nbformat_minor": 4
}
